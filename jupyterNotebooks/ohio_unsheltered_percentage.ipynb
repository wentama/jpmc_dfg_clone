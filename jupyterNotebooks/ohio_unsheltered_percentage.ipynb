{
 "cells": [
  {
   "cell_type": "code",
   "execution_count": 1,
   "id": "6a208e17",
   "metadata": {},
   "outputs": [],
   "source": [
    "import numpy as np\n",
    "import pandas as pd\n",
    "import matplotlib.pyplot as plt"
   ]
  },
  {
   "cell_type": "code",
   "execution_count": 2,
   "id": "9e254dfb",
   "metadata": {},
   "outputs": [],
   "source": [
    "county_names = ['Cincinnati/Hamilton', 'Toledo/Lucas', 'Cleveland/Cuyahoga', 'Columbus/Franklin', 'Youngstown/Mahoning', \n",
    "               'Dayton, Kettering/Montgomery', 'Akron, Barberton/Summit', 'Ohio Balance of State', 'Canton, Massillon, Alliance/Stark']\n",
    "\n",
    "county_unsheltered_ratios = [[],[],[],[],[],[],[],[],[]]\n",
    "\n",
    "county_name_un_ratios = dict(zip(county_names, county_unsheltered_ratios))"
   ]
  },
  {
   "cell_type": "code",
   "execution_count": 3,
   "id": "1afc5083",
   "metadata": {},
   "outputs": [
    {
     "name": "stderr",
     "output_type": "stream",
     "text": [
      "/opt/tljh/user/lib/python3.7/site-packages/ipykernel_launcher.py:22: SettingWithCopyWarning: \n",
      "A value is trying to be set on a copy of a slice from a DataFrame.\n",
      "Try using .loc[row_indexer,col_indexer] = value instead\n",
      "\n",
      "See the caveats in the documentation: https://pandas.pydata.org/pandas-docs/stable/user_guide/indexing.html#returning-a-view-versus-a-copy\n"
     ]
    },
    {
     "name": "stdout",
     "output_type": "stream",
     "text": [
      "Year of Interest:2007\n",
      "                                         CoC Name  unsheltered ratio\n",
      "281                Cincinnati/Hamilton County CoC           0.056405\n",
      "282                       Toledo/Lucas County CoC           0.153020\n",
      "283                 Cleveland/Cuyahoga County CoC           0.084211\n",
      "284                  Columbus/Franklin County CoC           0.083030\n",
      "285                Youngstown/Mahoning County CoC           0.068273\n",
      "286       Dayton, Kettering/Montgomery County CoC           0.084076\n",
      "287            Akron, Barberton/Summit County CoC           0.233010\n",
      "288                     Ohio Balance of State CoC           0.290542\n",
      "289  Canton, Massillon, Alliance/Stark County CoC           0.214552\n",
      "__________________________\n"
     ]
    },
    {
     "name": "stderr",
     "output_type": "stream",
     "text": [
      "/opt/tljh/user/lib/python3.7/site-packages/ipykernel_launcher.py:22: SettingWithCopyWarning: \n",
      "A value is trying to be set on a copy of a slice from a DataFrame.\n",
      "Try using .loc[row_indexer,col_indexer] = value instead\n",
      "\n",
      "See the caveats in the documentation: https://pandas.pydata.org/pandas-docs/stable/user_guide/indexing.html#returning-a-view-versus-a-copy\n"
     ]
    },
    {
     "name": "stdout",
     "output_type": "stream",
     "text": [
      "Year of Interest:2008\n",
      "                                         CoC Name  unsheltered ratio\n",
      "277                Cincinnati/Hamilton County CoC           0.049283\n",
      "278                       Toledo/Lucas County CoC           0.264859\n",
      "279                 Cleveland/Cuyahoga County CoC           0.067351\n",
      "280                  Columbus/Franklin County CoC           0.087248\n",
      "281                Youngstown/Mahoning County CoC           0.046610\n",
      "282       Dayton, Kettering/Montgomery County CoC           0.035545\n",
      "283            Akron, Barberton/Summit County CoC           0.140541\n",
      "284                     Ohio Balance of State CoC           0.287293\n",
      "285  Canton, Massillon, Alliance/Stark County CoC           0.564356\n",
      "__________________________\n"
     ]
    },
    {
     "name": "stderr",
     "output_type": "stream",
     "text": [
      "/opt/tljh/user/lib/python3.7/site-packages/ipykernel_launcher.py:22: SettingWithCopyWarning: \n",
      "A value is trying to be set on a copy of a slice from a DataFrame.\n",
      "Try using .loc[row_indexer,col_indexer] = value instead\n",
      "\n",
      "See the caveats in the documentation: https://pandas.pydata.org/pandas-docs/stable/user_guide/indexing.html#returning-a-view-versus-a-copy\n"
     ]
    },
    {
     "name": "stdout",
     "output_type": "stream",
     "text": [
      "Year of Interest:2009\n",
      "                                         CoC Name  unsheltered ratio\n",
      "278                Cincinnati/Hamilton County CoC           0.037719\n",
      "279                       Toledo/Lucas County CoC           0.230688\n",
      "280                 Cleveland/Cuyahoga County CoC           0.058587\n",
      "281                  Columbus/Franklin County CoC           0.079470\n",
      "282                Youngstown/Mahoning County CoC           0.032787\n",
      "283       Dayton, Kettering/Montgomery County CoC           0.016726\n",
      "284            Akron, Barberton/Summit County CoC           0.197561\n",
      "285                     Ohio Balance of State CoC           0.212159\n",
      "286  Canton, Massillon, Alliance/Stark County CoC           0.187805\n",
      "__________________________\n"
     ]
    },
    {
     "name": "stderr",
     "output_type": "stream",
     "text": [
      "/opt/tljh/user/lib/python3.7/site-packages/ipykernel_launcher.py:22: SettingWithCopyWarning: \n",
      "A value is trying to be set on a copy of a slice from a DataFrame.\n",
      "Try using .loc[row_indexer,col_indexer] = value instead\n",
      "\n",
      "See the caveats in the documentation: https://pandas.pydata.org/pandas-docs/stable/user_guide/indexing.html#returning-a-view-versus-a-copy\n"
     ]
    },
    {
     "name": "stdout",
     "output_type": "stream",
     "text": [
      "Year of Interest:2010\n",
      "                                         CoC Name  unsheltered ratio\n",
      "278                Cincinnati/Hamilton County CoC           0.074553\n",
      "279                       Toledo/Lucas County CoC           0.131846\n",
      "280                 Cleveland/Cuyahoga County CoC           0.060579\n",
      "281                  Columbus/Franklin County CoC           0.096611\n",
      "282                Youngstown/Mahoning County CoC           0.021858\n",
      "283       Dayton, Kettering/Montgomery County CoC           0.029412\n",
      "284            Akron, Barberton/Summit County CoC           0.217695\n",
      "285                     Ohio Balance of State CoC           0.239956\n",
      "286  Canton, Massillon, Alliance/Stark County CoC           0.122970\n",
      "__________________________\n"
     ]
    },
    {
     "name": "stderr",
     "output_type": "stream",
     "text": [
      "/opt/tljh/user/lib/python3.7/site-packages/ipykernel_launcher.py:22: SettingWithCopyWarning: \n",
      "A value is trying to be set on a copy of a slice from a DataFrame.\n",
      "Try using .loc[row_indexer,col_indexer] = value instead\n",
      "\n",
      "See the caveats in the documentation: https://pandas.pydata.org/pandas-docs/stable/user_guide/indexing.html#returning-a-view-versus-a-copy\n"
     ]
    },
    {
     "name": "stdout",
     "output_type": "stream",
     "text": [
      "Year of Interest:2011\n",
      "                                         CoC Name  unsheltered ratio\n",
      "277                Cincinnati/Hamilton County CoC           0.051765\n",
      "278                       Toledo/Lucas County CoC           0.216241\n",
      "279                 Cleveland/Cuyahoga County CoC           0.086649\n",
      "280                  Columbus/Franklin County CoC           0.101551\n",
      "281                Youngstown/Mahoning County CoC           0.062780\n",
      "282       Dayton, Kettering/Montgomery County CoC           0.038540\n",
      "283            Akron, Barberton/Summit County CoC           0.170362\n",
      "284                     Ohio Balance of State CoC           0.202437\n",
      "285  Canton, Massillon, Alliance/Stark County CoC           0.141079\n",
      "__________________________\n"
     ]
    },
    {
     "name": "stderr",
     "output_type": "stream",
     "text": [
      "/opt/tljh/user/lib/python3.7/site-packages/ipykernel_launcher.py:22: SettingWithCopyWarning: \n",
      "A value is trying to be set on a copy of a slice from a DataFrame.\n",
      "Try using .loc[row_indexer,col_indexer] = value instead\n",
      "\n",
      "See the caveats in the documentation: https://pandas.pydata.org/pandas-docs/stable/user_guide/indexing.html#returning-a-view-versus-a-copy\n"
     ]
    },
    {
     "name": "stdout",
     "output_type": "stream",
     "text": [
      "Year of Interest:2012\n",
      "                                         CoC Name  unsheltered ratio\n",
      "276                Cincinnati/Hamilton County CoC           0.027811\n",
      "277                       Toledo/Lucas County CoC           0.140225\n",
      "278                 Cleveland/Cuyahoga County CoC           0.056595\n",
      "279                  Columbus/Franklin County CoC           0.126918\n",
      "280                Youngstown/Mahoning County CoC           0.044643\n",
      "281       Dayton, Kettering/Montgomery County CoC           0.061980\n",
      "282            Akron, Barberton/Summit County CoC           0.204182\n",
      "283                     Ohio Balance of State CoC           0.182777\n",
      "284  Canton, Massillon, Alliance/Stark County CoC           0.130705\n",
      "__________________________\n"
     ]
    },
    {
     "name": "stderr",
     "output_type": "stream",
     "text": [
      "/opt/tljh/user/lib/python3.7/site-packages/ipykernel_launcher.py:22: SettingWithCopyWarning: \n",
      "A value is trying to be set on a copy of a slice from a DataFrame.\n",
      "Try using .loc[row_indexer,col_indexer] = value instead\n",
      "\n",
      "See the caveats in the documentation: https://pandas.pydata.org/pandas-docs/stable/user_guide/indexing.html#returning-a-view-versus-a-copy\n"
     ]
    },
    {
     "name": "stdout",
     "output_type": "stream",
     "text": [
      "Year of Interest:2013\n",
      "                                         CoC Name  unsheltered ratio\n",
      "277                Cincinnati/Hamilton County CoC           0.019608\n",
      "278                       Toledo/Lucas County CoC           0.038889\n",
      "279                 Cleveland/Cuyahoga County CoC           0.036167\n",
      "280                  Columbus/Franklin County CoC           0.163978\n",
      "281                Youngstown/Mahoning County CoC           0.008811\n",
      "282       Dayton, Kettering/Montgomery County CoC           0.053794\n",
      "283            Akron, Barberton/Summit County CoC           0.205336\n",
      "284                     Ohio Balance of State CoC           0.173629\n",
      "285  Canton, Massillon, Alliance/Stark County CoC           0.107280\n",
      "__________________________\n"
     ]
    },
    {
     "name": "stderr",
     "output_type": "stream",
     "text": [
      "/opt/tljh/user/lib/python3.7/site-packages/ipykernel_launcher.py:22: SettingWithCopyWarning: \n",
      "A value is trying to be set on a copy of a slice from a DataFrame.\n",
      "Try using .loc[row_indexer,col_indexer] = value instead\n",
      "\n",
      "See the caveats in the documentation: https://pandas.pydata.org/pandas-docs/stable/user_guide/indexing.html#returning-a-view-versus-a-copy\n"
     ]
    },
    {
     "name": "stdout",
     "output_type": "stream",
     "text": [
      "Year of Interest:2014\n",
      "                                         CoC Name  unsheltered ratio\n",
      "277                Cincinnati/Hamilton County CoC           0.016299\n",
      "278                       Toledo/Lucas County CoC           0.011125\n",
      "279                 Cleveland/Cuyahoga County CoC           0.013314\n",
      "280                  Columbus/Franklin County CoC           0.144362\n",
      "281                Youngstown/Mahoning County CoC           0.031250\n",
      "282       Dayton, Kettering/Montgomery County CoC           0.042984\n",
      "283            Akron, Barberton/Summit County CoC           0.203448\n",
      "284                     Ohio Balance of State CoC           0.146873\n",
      "285  Canton, Massillon, Alliance/Stark County CoC           0.071563\n",
      "__________________________\n"
     ]
    },
    {
     "name": "stderr",
     "output_type": "stream",
     "text": [
      "/opt/tljh/user/lib/python3.7/site-packages/ipykernel_launcher.py:22: SettingWithCopyWarning: \n",
      "A value is trying to be set on a copy of a slice from a DataFrame.\n",
      "Try using .loc[row_indexer,col_indexer] = value instead\n",
      "\n",
      "See the caveats in the documentation: https://pandas.pydata.org/pandas-docs/stable/user_guide/indexing.html#returning-a-view-versus-a-copy\n"
     ]
    },
    {
     "name": "stdout",
     "output_type": "stream",
     "text": [
      "Year of Interest:2015\n",
      "                                         CoC Name  unsheltered ratio\n",
      "280                Cincinnati/Hamilton County CoC           0.047037\n",
      "281                       Toledo/Lucas County CoC           0.028369\n",
      "282                 Cleveland/Cuyahoga County CoC           0.034997\n",
      "283                  Columbus/Franklin County CoC           0.115049\n",
      "284                Youngstown/Mahoning County CoC           0.201087\n",
      "285       Dayton, Kettering/Montgomery County CoC           0.049434\n",
      "286            Akron, Barberton/Summit County CoC           0.156579\n",
      "287                     Ohio Balance of State CoC           0.140361\n",
      "288  Canton, Massillon, Alliance/Stark County CoC           0.127119\n",
      "__________________________\n"
     ]
    },
    {
     "name": "stderr",
     "output_type": "stream",
     "text": [
      "/opt/tljh/user/lib/python3.7/site-packages/ipykernel_launcher.py:22: SettingWithCopyWarning: \n",
      "A value is trying to be set on a copy of a slice from a DataFrame.\n",
      "Try using .loc[row_indexer,col_indexer] = value instead\n",
      "\n",
      "See the caveats in the documentation: https://pandas.pydata.org/pandas-docs/stable/user_guide/indexing.html#returning-a-view-versus-a-copy\n"
     ]
    },
    {
     "name": "stdout",
     "output_type": "stream",
     "text": [
      "Year of Interest:2016\n",
      "                                         CoC Name  unsheltered ratio\n",
      "279                Cincinnati/Hamilton County CoC           0.053763\n",
      "280                       Toledo/Lucas County CoC           0.025042\n",
      "281                 Cleveland/Cuyahoga County CoC           0.043606\n",
      "282                  Columbus/Franklin County CoC           0.196636\n",
      "283                Youngstown/Mahoning County CoC           0.109827\n",
      "284       Dayton, Kettering/Montgomery County CoC           0.057257\n",
      "285            Akron, Barberton/Summit County CoC           0.128130\n",
      "286                     Ohio Balance of State CoC           0.146768\n",
      "287  Canton, Massillon, Alliance/Stark County CoC           0.080435\n",
      "__________________________\n"
     ]
    },
    {
     "name": "stderr",
     "output_type": "stream",
     "text": [
      "/opt/tljh/user/lib/python3.7/site-packages/ipykernel_launcher.py:22: SettingWithCopyWarning: \n",
      "A value is trying to be set on a copy of a slice from a DataFrame.\n",
      "Try using .loc[row_indexer,col_indexer] = value instead\n",
      "\n",
      "See the caveats in the documentation: https://pandas.pydata.org/pandas-docs/stable/user_guide/indexing.html#returning-a-view-versus-a-copy\n"
     ]
    },
    {
     "name": "stdout",
     "output_type": "stream",
     "text": [
      "Year of Interest:2017\n",
      "                                         CoC Name  unsheltered ratio\n",
      "281                Cincinnati/Hamilton County CoC           0.063683\n",
      "282                       Toledo/Lucas County CoC           0.032064\n",
      "283                 Cleveland/Cuyahoga County CoC           0.056167\n",
      "284                  Columbus/Franklin County CoC           0.201064\n",
      "285                Youngstown/Mahoning County CoC           0.022901\n",
      "286       Dayton, Kettering/Montgomery County CoC           0.085622\n",
      "287            Akron, Barberton/Summit County CoC           0.153846\n",
      "288                     Ohio Balance of State CoC           0.188274\n",
      "289  Canton, Massillon, Alliance/Stark County CoC           0.068966\n",
      "__________________________\n"
     ]
    },
    {
     "name": "stderr",
     "output_type": "stream",
     "text": [
      "/opt/tljh/user/lib/python3.7/site-packages/ipykernel_launcher.py:22: SettingWithCopyWarning: \n",
      "A value is trying to be set on a copy of a slice from a DataFrame.\n",
      "Try using .loc[row_indexer,col_indexer] = value instead\n",
      "\n",
      "See the caveats in the documentation: https://pandas.pydata.org/pandas-docs/stable/user_guide/indexing.html#returning-a-view-versus-a-copy\n"
     ]
    },
    {
     "name": "stdout",
     "output_type": "stream",
     "text": [
      "Year of Interest:2018\n",
      "                                         CoC Name  unsheltered ratio\n",
      "281                Cincinnati/Hamilton County CoC           0.042190\n",
      "282                       Toledo/Lucas County CoC           0.033233\n",
      "283                 Cleveland/Cuyahoga County CoC           0.043142\n",
      "284                  Columbus/Franklin County CoC           0.159380\n",
      "285                Youngstown/Mahoning County CoC           0.127778\n",
      "286       Dayton, Kettering/Montgomery County CoC           0.075000\n",
      "287            Akron, Barberton/Summit County CoC           0.226576\n",
      "288                     Ohio Balance of State CoC           0.202043\n",
      "289  Canton, Massillon, Alliance/Stark County CoC           0.143885\n",
      "__________________________\n"
     ]
    },
    {
     "name": "stderr",
     "output_type": "stream",
     "text": [
      "/opt/tljh/user/lib/python3.7/site-packages/ipykernel_launcher.py:22: SettingWithCopyWarning: \n",
      "A value is trying to be set on a copy of a slice from a DataFrame.\n",
      "Try using .loc[row_indexer,col_indexer] = value instead\n",
      "\n",
      "See the caveats in the documentation: https://pandas.pydata.org/pandas-docs/stable/user_guide/indexing.html#returning-a-view-versus-a-copy\n"
     ]
    },
    {
     "name": "stdout",
     "output_type": "stream",
     "text": [
      "Year of Interest:2019\n",
      "                                         CoC Name  unsheltered ratio\n",
      "280                Cincinnati/Hamilton County CoC           0.028651\n",
      "281                       Toledo/Lucas County CoC           0.019640\n",
      "282                 Cleveland/Cuyahoga County CoC           0.065513\n",
      "283                  Columbus/Franklin County CoC           0.200315\n",
      "284                Youngstown/Mahoning County CoC           0.060811\n",
      "285       Dayton, Kettering/Montgomery County CoC           0.071953\n",
      "286            Akron, Barberton/Summit County CoC           0.159341\n",
      "287                     Ohio Balance of State CoC           0.233975\n",
      "288  Canton, Massillon, Alliance/Stark County CoC           0.062271\n",
      "__________________________\n"
     ]
    },
    {
     "name": "stderr",
     "output_type": "stream",
     "text": [
      "/opt/tljh/user/lib/python3.7/site-packages/ipykernel_launcher.py:22: SettingWithCopyWarning: \n",
      "A value is trying to be set on a copy of a slice from a DataFrame.\n",
      "Try using .loc[row_indexer,col_indexer] = value instead\n",
      "\n",
      "See the caveats in the documentation: https://pandas.pydata.org/pandas-docs/stable/user_guide/indexing.html#returning-a-view-versus-a-copy\n"
     ]
    },
    {
     "name": "stdout",
     "output_type": "stream",
     "text": [
      "Year of Interest:2020\n",
      "                                         CoC Name  unsheltered ratio\n",
      "280                Cincinnati/Hamilton County CoC           0.051282\n",
      "281                       Toledo/Lucas County CoC           0.091362\n",
      "282                 Cleveland/Cuyahoga County CoC           0.065075\n",
      "283                  Columbus/Franklin County CoC           0.212672\n",
      "284                Youngstown/Mahoning County CoC           0.120000\n",
      "285       Dayton, Kettering/Montgomery County CoC           0.066576\n",
      "286            Akron, Barberton/Summit County CoC           0.218058\n",
      "287                     Ohio Balance of State CoC           0.275650\n",
      "288  Canton, Massillon, Alliance/Stark County CoC           0.064000\n",
      "__________________________\n",
      "Year of Interest:2021\n",
      "                                         CoC Name unsheltered ratio\n",
      "281                Cincinnati/Hamilton County CoC          0.030512\n",
      "282                       Toledo/Lucas County CoC               0.0\n",
      "283                 Cleveland/Cuyahoga County CoC               0.0\n",
      "284                  Columbus/Franklin County CoC               0.0\n",
      "285                Youngstown/Mahoning County CoC               0.0\n",
      "286       Dayton, Kettering/Montgomery County CoC               0.0\n",
      "287            Akron, Barberton/Summit County CoC          0.200508\n",
      "288                     Ohio Balance of State CoC               0.0\n",
      "289  Canton, Massillon, Alliance/Stark County CoC          0.183761\n",
      "__________________________\n"
     ]
    },
    {
     "name": "stderr",
     "output_type": "stream",
     "text": [
      "/opt/tljh/user/lib/python3.7/site-packages/ipykernel_launcher.py:22: SettingWithCopyWarning: \n",
      "A value is trying to be set on a copy of a slice from a DataFrame.\n",
      "Try using .loc[row_indexer,col_indexer] = value instead\n",
      "\n",
      "See the caveats in the documentation: https://pandas.pydata.org/pandas-docs/stable/user_guide/indexing.html#returning-a-view-versus-a-copy\n"
     ]
    }
   ],
   "source": [
    "year = np.arange(2007,2022)\n",
    "\n",
    "# loop to iterate and find unsheltered / total homeless\n",
    "for i in year:\n",
    "    yr = str(i)\n",
    "    \n",
    "    # extract excel\n",
    "    homeless_pop = pd.read_excel('data/2007-2021-PIT-Counts-by-CoC.xlsx', sheet_name = yr)\n",
    "    \n",
    "    # define attribute title in this loop\n",
    "    overall_homeless = 'Overall Homeless, ' + yr\n",
    "    unsheltered = 'Unsheltered Homeless, ' + yr\n",
    "    \n",
    "    # select columns\n",
    "    pop_and_shelter = homeless_pop[['CoC Number','CoC Name', overall_homeless , unsheltered]]\n",
    "    \n",
    "    # filter to Ohio county only\n",
    "    oh_filter = pop_and_shelter['CoC Number'].str.contains('OH', case = False, na=False)\n",
    "    oh_county = pop_and_shelter[oh_filter]\n",
    "    \n",
    "    # calculate the ratio for each year\n",
    "    oh_county['unsheltered ratio'] = oh_county[unsheltered] / pd.to_numeric(oh_county[overall_homeless])\n",
    "    \n",
    "    # add ratio into the arrays    \n",
    "    index = 0\n",
    "    for z in oh_county[\"unsheltered ratio\"]:\n",
    "        county_unsheltered_ratios[index].append(z)\n",
    "        index += 1\n",
    "    \n",
    "    # print the ratio for each year\n",
    "    print(\"Year of Interest:\" + yr)\n",
    "    print(oh_county[['CoC Name','unsheltered ratio']])\n",
    "    print(\"__________________________\")\n",
    "    "
   ]
  },
  {
   "cell_type": "code",
   "execution_count": 4,
   "id": "f25c6f7b",
   "metadata": {},
   "outputs": [
    {
     "data": {
      "text/plain": [
       "Text(0, 0.5, 'Unsheltered Percentage')"
      ]
     },
     "execution_count": 4,
     "metadata": {},
     "output_type": "execute_result"
    },
    {
     "data": {
      "image/png": "[encoded data removed]",
      "text/plain": [
       "<Figure size 432x288 with 1 Axes>"
      ]
     },
     "metadata": {
      "needs_background": "light"
     },
     "output_type": "display_data"
    }
   ],
   "source": [
    "for key, val in county_name_un_ratios.items():\n",
    "    plt.plot(year, val, label=key)\n",
    "    plt.legend(bbox_to_anchor=(1.05, 1), loc='upper left', borderaxespad=0.)\n",
    "    \n",
    "plt.title('Percentage of the Homeless Population Unsheltered, by Cities')\n",
    "plt.xlabel('Years')\n",
    "plt.ylabel('Unsheltered Percentage')"
   ]
  }
 ],
 "metadata": {
  "kernelspec": {
   "display_name": "Python 3",
   "language": "python",
   "name": "python3"
  },
  "language_info": {
   "codemirror_mode": {
    "name": "ipython",
    "version": 3
   },
   "file_extension": ".py",
   "mimetype": "text/x-python",
   "name": "python",
   "nbconvert_exporter": "python",
   "pygments_lexer": "ipython3",
   "version": "3.7.3"
  }
 },
 "nbformat": 4,
 "nbformat_minor": 5
}
