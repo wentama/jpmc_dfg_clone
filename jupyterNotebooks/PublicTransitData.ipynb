{
 "cells": [
  {
   "cell_type": "code",
   "execution_count": 6,
   "id": "35ed4894",
   "metadata": {},
   "outputs": [],
   "source": [
    "import pandas as pd\n",
    "import numpy as np"
   ]
  },
  {
   "cell_type": "code",
   "execution_count": 7,
   "id": "6df751af",
   "metadata": {},
   "outputs": [],
   "source": [
    "#cityName = \"\";\n",
    "def readSheet(city):\n",
    "    cityName = city\n",
    "    sheet = pd.read_excel(\"August 2022 Adjusted Database.xlsx\", sheet_name = \"MASTER\")\n",
    "    sheet = sheet.dropna()\n",
    "    county = sheet.loc[sheet['HQ State'].str.contains('OH')]\n",
    "    county = sheet.loc[sheet['HQ City'].str.contains(city)]\n",
    "    return county"
   ]
  },
  {
   "cell_type": "code",
   "execution_count": 8,
   "id": "8b4b33c8",
   "metadata": {},
   "outputs": [],
   "source": [
    "def df(city):\n",
    "    new_city = readSheet(city.upper())\n",
    "    filtered_city = new_city[[\"UZA Population\", \"Service Area Population\"]].copy()\n",
    "    return filtered_city"
   ]
  },
  {
   "cell_type": "code",
   "execution_count": 13,
   "id": "48054386",
   "metadata": {},
   "outputs": [
    {
     "data": {
      "text/html": [
       "<div>\n",
       "<style scoped>\n",
       "    .dataframe tbody tr th:only-of-type {\n",
       "        vertical-align: middle;\n",
       "    }\n",
       "\n",
       "    .dataframe tbody tr th {\n",
       "        vertical-align: top;\n",
       "    }\n",
       "\n",
       "    .dataframe thead th {\n",
       "        text-align: right;\n",
       "    }\n",
       "</style>\n",
       "<table border=\"1\" class=\"dataframe\">\n",
       "  <thead>\n",
       "    <tr style=\"text-align: right;\">\n",
       "      <th></th>\n",
       "      <th>City</th>\n",
       "      <th>UZA Population</th>\n",
       "      <th>Service Area Population</th>\n",
       "      <th>Served/Total</th>\n",
       "      <th>Percentage</th>\n",
       "    </tr>\n",
       "  </thead>\n",
       "  <tbody>\n",
       "    <tr>\n",
       "      <th>0</th>\n",
       "      <td>Toledo</td>\n",
       "      <td>1522929</td>\n",
       "      <td>1122639.0</td>\n",
       "      <td>0.737158</td>\n",
       "      <td>73.715781</td>\n",
       "    </tr>\n",
       "    <tr>\n",
       "      <th>1</th>\n",
       "      <td>Cincinnati</td>\n",
       "      <td>3249654</td>\n",
       "      <td>1489802.0</td>\n",
       "      <td>0.458449</td>\n",
       "      <td>45.844942</td>\n",
       "    </tr>\n",
       "    <tr>\n",
       "      <th>2</th>\n",
       "      <td>Cleveland</td>\n",
       "      <td>10684038</td>\n",
       "      <td>8472840.0</td>\n",
       "      <td>0.793037</td>\n",
       "      <td>79.303724</td>\n",
       "    </tr>\n",
       "    <tr>\n",
       "      <th>3</th>\n",
       "      <td>Dayton</td>\n",
       "      <td>2172273</td>\n",
       "      <td>1677186.0</td>\n",
       "      <td>0.772088</td>\n",
       "      <td>77.208804</td>\n",
       "    </tr>\n",
       "    <tr>\n",
       "      <th>4</th>\n",
       "      <td>Columbus</td>\n",
       "      <td>5472140</td>\n",
       "      <td>5759787.0</td>\n",
       "      <td>1.052566</td>\n",
       "      <td>105.256572</td>\n",
       "    </tr>\n",
       "    <tr>\n",
       "      <th>5</th>\n",
       "      <td>Akron</td>\n",
       "      <td>1708497</td>\n",
       "      <td>1623039.0</td>\n",
       "      <td>0.949981</td>\n",
       "      <td>94.998060</td>\n",
       "    </tr>\n",
       "  </tbody>\n",
       "</table>\n",
       "</div>"
      ],
      "text/plain": [
       "         City  UZA Population  Service Area Population  Served/Total  \\\n",
       "0      Toledo         1522929                1122639.0      0.737158   \n",
       "1  Cincinnati         3249654                1489802.0      0.458449   \n",
       "2   Cleveland        10684038                8472840.0      0.793037   \n",
       "3      Dayton         2172273                1677186.0      0.772088   \n",
       "4    Columbus         5472140                5759787.0      1.052566   \n",
       "5       Akron         1708497                1623039.0      0.949981   \n",
       "\n",
       "   Percentage  \n",
       "0   73.715781  \n",
       "1   45.844942  \n",
       "2   79.303724  \n",
       "3   77.208804  \n",
       "4  105.256572  \n",
       "5   94.998060  "
      ]
     },
     "execution_count": 13,
     "metadata": {},
     "output_type": "execute_result"
    }
   ],
   "source": [
    "cityList = [\"Toledo\", \"Cincinnati\", \"Cleveland\", \"Dayton\", \"Columbus\", \"Akron\"]\n",
    "result = []\n",
    "j = 0\n",
    "for i in cityList:\n",
    "    cityToRow = {}\n",
    "    cityToRow['City'] = i\n",
    "    cityToRow['UZA Population'] = df(i)['UZA Population'].sum()\n",
    "    cityToRow['Service Area Population'] = df(i)['Service Area Population'].sum()\n",
    "    cityToRow['Served/Total'] = cityToRow['Service Area Population'] / cityToRow['UZA Population']\n",
    "    cityToRow['Percentage'] = 100 * cityToRow['Served/Total']\n",
    "    \n",
    "    result.append(pd.DataFrame(data = cityToRow, index=[j]))\n",
    "    j += 1\n",
    "    \n",
    "resDF = pd.concat(result)\n",
    "resDF"
   ]
  },
  {
   "cell_type": "code",
   "execution_count": 19,
   "id": "972a3a92",
   "metadata": {},
   "outputs": [],
   "source": [
    "resDF = resDF.sort_values(by='Percentage', ascending = False)"
   ]
  },
  {
   "cell_type": "code",
   "execution_count": 20,
   "id": "a3573920",
   "metadata": {},
   "outputs": [],
   "source": [
    "resDF.to_csv( \"transportData.csv\", index = False, header= True)"
   ]
  },
  {
   "cell_type": "code",
   "execution_count": null,
   "id": "4f39aeee",
   "metadata": {},
   "outputs": [],
   "source": []
  }
 ],
 "metadata": {
  "kernelspec": {
   "display_name": "Python 3",
   "language": "python",
   "name": "python3"
  },
  "language_info": {
   "codemirror_mode": {
    "name": "ipython",
    "version": 3
   },
   "file_extension": ".py",
   "mimetype": "text/x-python",
   "name": "python",
   "nbconvert_exporter": "python",
   "pygments_lexer": "ipython3",
   "version": "3.7.3"
  }
 },
 "nbformat": 4,
 "nbformat_minor": 5
}
