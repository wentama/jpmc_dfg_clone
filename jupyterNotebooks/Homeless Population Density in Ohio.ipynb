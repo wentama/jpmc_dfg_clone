{
 "cells": [
  {
   "cell_type": "code",
   "execution_count": 1,
   "id": "1abeb0bd",
   "metadata": {},
   "outputs": [],
   "source": [
    "import pandas as pd\n",
    "import matplotlib.pyplot as plt"
   ]
  },
  {
   "cell_type": "markdown",
   "id": "9c7a323b",
   "metadata": {},
   "source": [
    "The function below converts the PIT Counts by CoC Excel file into a dataframe with dropped NaN rows, only OH CoCs, and the dropped Ohio Balance of State (rural counties)."
   ]
  },
  {
   "cell_type": "code",
   "execution_count": 4,
   "id": "547c06a2",
   "metadata": {
    "scrolled": true
   },
   "outputs": [],
   "source": [
    "def per_year_homeless_pop(year):\n",
    "    homeless_pop = pd.read_excel('2007-2021-PIT-Counts-by-CoC.xlsx', sheet_name = str(year))\n",
    "    homeless_pop = homeless_pop.dropna()\n",
    "    oh_homeless_pop = homeless_pop.loc[homeless_pop['CoC Number'].str.contains('OH')]\n",
    "    oh_homeless_pop['CoC Name'] = oh_homeless_pop['CoC Name'].str.split('/').str[-1].str[:-4]\n",
    "    oh_homeless_pop = oh_homeless_pop.loc[oh_homeless_pop['CoC Name'] != 'Ohio Balance of State']\n",
    "    return oh_homeless_pop"
   ]
  },
  {
   "cell_type": "code",
   "execution_count": 4,
   "id": "eca2045e",
   "metadata": {},
   "outputs": [],
   "source": [
    "def make_pop_year(year):\n",
    "    pop_year = per_year_homeless_pop(year)[['CoC Name', 'Overall Homeless - Under 18, ' + str(year), 'Overall Homeless - Age 18 to 24, ' + str(year)]]\n",
    "    pop_year['Overall Homeless - under_24_sum'] = pop_year['Overall Homeless - Under 18, ' + str(year)] + pop_year['Overall Homeless - Age 18 to 24, ' + str(year)]\n",
    "    return pop_year"
   ]
  },
  {
   "cell_type": "code",
   "execution_count": 5,
   "id": "7326d97e",
   "metadata": {
    "scrolled": true
   },
   "outputs": [],
   "source": [
    "# pop_by_county = pd.read_csv('co-est2021-alldata.csv')\n",
    "# oh_pop_by_county = pop_by_county.loc[pop_by_county['STNAME'] == 'Ohio']\n",
    "# oh_pop_by_county_2020 = oh_pop_by_county[['CTYNAME', 'POPESTIMATE2020']]\n",
    "# oh_pop_by_county_2020"
   ]
  },
  {
   "cell_type": "code",
   "execution_count": 6,
   "id": "668e1571",
   "metadata": {},
   "outputs": [],
   "source": [
    "# def pop_by_county_19_prev(year):\n",
    "#     if year == 2020:\n",
    "#         pop_by_county = pd.read_csv('co-est2021-alldata.csv')\n",
    "#         oh_pop_by_county = pop_by_county.loc[pop_by_county['STNAME'] == 'Ohio']\n",
    "#         oh_pop_by_county_2020 = oh_pop_by_county[['CTYNAME', 'POPESTIMATE2020']]\n",
    "#         pop_by_county_19_prev = oh_pop_by_county_2020\n",
    "#     else:\n",
    "#         pop_by_county_19_prev = pd.read_csv('ohio_counties.csv')[['County', str(year)]]\n",
    "#         pop_by_county_19_prev['County'] = pop_by_county_19_prev['County'].str[1:-6]\n",
    "#     return pop_by_county_19_prev"
   ]
  },
  {
   "cell_type": "code",
   "execution_count": 7,
   "id": "a8d496bf",
   "metadata": {
    "scrolled": true
   },
   "outputs": [],
   "source": [
    "# pop_by_county_19_prev(2019)"
   ]
  },
  {
   "cell_type": "code",
   "execution_count": 8,
   "id": "e0a05b28",
   "metadata": {},
   "outputs": [],
   "source": [
    "def make_oh_pop_county_14_24_pop_year(year):\n",
    "    oh_pop_county_per_age = pd.read_csv('cc-est2019-agesex-39.csv')\n",
    "    oh_pop_county_per_age_pop_year = oh_pop_county_per_age.loc[oh_pop_county_per_age['YEAR'] == year - 2009]\n",
    "    oh_pop_county_under_24_pop_year = oh_pop_county_per_age_pop_year[['CTYNAME', 'UNDER5_TOT', 'AGE513_TOT', 'AGE1417_TOT', 'AGE1824_TOT']]\n",
    "    oh_pop_county_under_24_pop_year['pop_sum_under_24'] = oh_pop_county_under_24_pop_year['UNDER5_TOT'] + oh_pop_county_under_24_pop_year['AGE513_TOT'] + oh_pop_county_under_24_pop_year['AGE1417_TOT'] + oh_pop_county_under_24_pop_year['AGE1824_TOT']\n",
    "    oh_pop_county_under_24_pop_year['pop_sum_bw_14_24'] = oh_pop_county_under_24_pop_year['AGE1417_TOT'] + oh_pop_county_under_24_pop_year['AGE1824_TOT']\n",
    "    oh_pop_county_under_24_pop_year['ratio_14_24_over_under_24'] = oh_pop_county_under_24_pop_year['pop_sum_bw_14_24'] / oh_pop_county_under_24_pop_year['pop_sum_under_24']\n",
    "    oh_pop_county_14_24_pop_year = oh_pop_county_under_24_pop_year\n",
    "    return oh_pop_county_14_24_pop_year"
   ]
  },
  {
   "cell_type": "code",
   "execution_count": 9,
   "id": "aedf0a01",
   "metadata": {
    "scrolled": true
   },
   "outputs": [
    {
     "name": "stderr",
     "output_type": "stream",
     "text": [
      "/opt/tljh/user/lib/python3.7/site-packages/ipykernel_launcher.py:5: SettingWithCopyWarning: \n",
      "A value is trying to be set on a copy of a slice from a DataFrame.\n",
      "Try using .loc[row_indexer,col_indexer] = value instead\n",
      "\n",
      "See the caveats in the documentation: https://pandas.pydata.org/pandas-docs/stable/user_guide/indexing.html#returning-a-view-versus-a-copy\n",
      "  \"\"\"\n",
      "/opt/tljh/user/lib/python3.7/site-packages/ipykernel_launcher.py:6: SettingWithCopyWarning: \n",
      "A value is trying to be set on a copy of a slice from a DataFrame.\n",
      "Try using .loc[row_indexer,col_indexer] = value instead\n",
      "\n",
      "See the caveats in the documentation: https://pandas.pydata.org/pandas-docs/stable/user_guide/indexing.html#returning-a-view-versus-a-copy\n",
      "  \n",
      "/opt/tljh/user/lib/python3.7/site-packages/ipykernel_launcher.py:7: SettingWithCopyWarning: \n",
      "A value is trying to be set on a copy of a slice from a DataFrame.\n",
      "Try using .loc[row_indexer,col_indexer] = value instead\n",
      "\n",
      "See the caveats in the documentation: https://pandas.pydata.org/pandas-docs/stable/user_guide/indexing.html#returning-a-view-versus-a-copy\n",
      "  import sys\n"
     ]
    },
    {
     "data": {
      "text/html": [
       "<div>\n",
       "<style scoped>\n",
       "    .dataframe tbody tr th:only-of-type {\n",
       "        vertical-align: middle;\n",
       "    }\n",
       "\n",
       "    .dataframe tbody tr th {\n",
       "        vertical-align: top;\n",
       "    }\n",
       "\n",
       "    .dataframe thead th {\n",
       "        text-align: right;\n",
       "    }\n",
       "</style>\n",
       "<table border=\"1\" class=\"dataframe\">\n",
       "  <thead>\n",
       "    <tr style=\"text-align: right;\">\n",
       "      <th></th>\n",
       "      <th>CTYNAME</th>\n",
       "      <th>UNDER5_TOT</th>\n",
       "      <th>AGE513_TOT</th>\n",
       "      <th>AGE1417_TOT</th>\n",
       "      <th>AGE1824_TOT</th>\n",
       "      <th>pop_sum_under_24</th>\n",
       "      <th>pop_sum_bw_14_24</th>\n",
       "      <th>ratio_14_24_over_under_24</th>\n",
       "    </tr>\n",
       "  </thead>\n",
       "  <tbody>\n",
       "    <tr>\n",
       "      <th>10</th>\n",
       "      <td>Adams County</td>\n",
       "      <td>1673</td>\n",
       "      <td>3354</td>\n",
       "      <td>1584</td>\n",
       "      <td>2057</td>\n",
       "      <td>8668</td>\n",
       "      <td>3641</td>\n",
       "      <td>0.420051</td>\n",
       "    </tr>\n",
       "    <tr>\n",
       "      <th>22</th>\n",
       "      <td>Allen County</td>\n",
       "      <td>6370</td>\n",
       "      <td>11858</td>\n",
       "      <td>5496</td>\n",
       "      <td>9992</td>\n",
       "      <td>33716</td>\n",
       "      <td>15488</td>\n",
       "      <td>0.459366</td>\n",
       "    </tr>\n",
       "    <tr>\n",
       "      <th>34</th>\n",
       "      <td>Ashland County</td>\n",
       "      <td>3113</td>\n",
       "      <td>6070</td>\n",
       "      <td>2894</td>\n",
       "      <td>5872</td>\n",
       "      <td>17949</td>\n",
       "      <td>8766</td>\n",
       "      <td>0.488384</td>\n",
       "    </tr>\n",
       "    <tr>\n",
       "      <th>46</th>\n",
       "      <td>Ashtabula County</td>\n",
       "      <td>5609</td>\n",
       "      <td>10861</td>\n",
       "      <td>5115</td>\n",
       "      <td>7386</td>\n",
       "      <td>28971</td>\n",
       "      <td>12501</td>\n",
       "      <td>0.431500</td>\n",
       "    </tr>\n",
       "    <tr>\n",
       "      <th>58</th>\n",
       "      <td>Athens County</td>\n",
       "      <td>2510</td>\n",
       "      <td>4661</td>\n",
       "      <td>2358</td>\n",
       "      <td>18445</td>\n",
       "      <td>27974</td>\n",
       "      <td>20803</td>\n",
       "      <td>0.743655</td>\n",
       "    </tr>\n",
       "    <tr>\n",
       "      <th>...</th>\n",
       "      <td>...</td>\n",
       "      <td>...</td>\n",
       "      <td>...</td>\n",
       "      <td>...</td>\n",
       "      <td>...</td>\n",
       "      <td>...</td>\n",
       "      <td>...</td>\n",
       "      <td>...</td>\n",
       "    </tr>\n",
       "    <tr>\n",
       "      <th>1006</th>\n",
       "      <td>Washington County</td>\n",
       "      <td>2969</td>\n",
       "      <td>5928</td>\n",
       "      <td>2948</td>\n",
       "      <td>5222</td>\n",
       "      <td>17067</td>\n",
       "      <td>8170</td>\n",
       "      <td>0.478702</td>\n",
       "    </tr>\n",
       "    <tr>\n",
       "      <th>1018</th>\n",
       "      <td>Wayne County</td>\n",
       "      <td>7637</td>\n",
       "      <td>14036</td>\n",
       "      <td>6438</td>\n",
       "      <td>11150</td>\n",
       "      <td>39261</td>\n",
       "      <td>17588</td>\n",
       "      <td>0.447976</td>\n",
       "    </tr>\n",
       "    <tr>\n",
       "      <th>1030</th>\n",
       "      <td>Williams County</td>\n",
       "      <td>2177</td>\n",
       "      <td>4166</td>\n",
       "      <td>2040</td>\n",
       "      <td>2876</td>\n",
       "      <td>11259</td>\n",
       "      <td>4916</td>\n",
       "      <td>0.436628</td>\n",
       "    </tr>\n",
       "    <tr>\n",
       "      <th>1042</th>\n",
       "      <td>Wood County</td>\n",
       "      <td>7025</td>\n",
       "      <td>13288</td>\n",
       "      <td>6238</td>\n",
       "      <td>22533</td>\n",
       "      <td>49084</td>\n",
       "      <td>28771</td>\n",
       "      <td>0.586158</td>\n",
       "    </tr>\n",
       "    <tr>\n",
       "      <th>1054</th>\n",
       "      <td>Wyandot County</td>\n",
       "      <td>1235</td>\n",
       "      <td>2530</td>\n",
       "      <td>1202</td>\n",
       "      <td>1654</td>\n",
       "      <td>6621</td>\n",
       "      <td>2856</td>\n",
       "      <td>0.431355</td>\n",
       "    </tr>\n",
       "  </tbody>\n",
       "</table>\n",
       "<p>88 rows × 8 columns</p>\n",
       "</div>"
      ],
      "text/plain": [
       "                CTYNAME  UNDER5_TOT  AGE513_TOT  AGE1417_TOT  AGE1824_TOT  \\\n",
       "10         Adams County        1673        3354         1584         2057   \n",
       "22         Allen County        6370       11858         5496         9992   \n",
       "34       Ashland County        3113        6070         2894         5872   \n",
       "46     Ashtabula County        5609       10861         5115         7386   \n",
       "58        Athens County        2510        4661         2358        18445   \n",
       "...                 ...         ...         ...          ...          ...   \n",
       "1006  Washington County        2969        5928         2948         5222   \n",
       "1018       Wayne County        7637       14036         6438        11150   \n",
       "1030    Williams County        2177        4166         2040         2876   \n",
       "1042        Wood County        7025       13288         6238        22533   \n",
       "1054     Wyandot County        1235        2530         1202         1654   \n",
       "\n",
       "      pop_sum_under_24  pop_sum_bw_14_24  ratio_14_24_over_under_24  \n",
       "10                8668              3641                   0.420051  \n",
       "22               33716             15488                   0.459366  \n",
       "34               17949              8766                   0.488384  \n",
       "46               28971             12501                   0.431500  \n",
       "58               27974             20803                   0.743655  \n",
       "...                ...               ...                        ...  \n",
       "1006             17067              8170                   0.478702  \n",
       "1018             39261             17588                   0.447976  \n",
       "1030             11259              4916                   0.436628  \n",
       "1042             49084             28771                   0.586158  \n",
       "1054              6621              2856                   0.431355  \n",
       "\n",
       "[88 rows x 8 columns]"
      ]
     },
     "execution_count": 9,
     "metadata": {},
     "output_type": "execute_result"
    }
   ],
   "source": [
    "make_oh_pop_county_14_24_pop_year(2020)"
   ]
  },
  {
   "cell_type": "code",
   "execution_count": 10,
   "id": "383284bb",
   "metadata": {},
   "outputs": [],
   "source": [
    "def merged_14_24(pop_year, oh_pop_county_14_24_pop_year):\n",
    "    merged_14_24 = pd.merge(left = pop_year, right = oh_pop_county_14_24_pop_year, left_on = 'CoC Name', right_on = 'CTYNAME')\n",
    "    merged_14_24['abs_num_14_24'] = merged_14_24['ratio_14_24_over_under_24'] * merged_14_24['Overall Homeless - under_24_sum']\n",
    "    merged_14_24['14_24_final_ratio'] = merged_14_24['abs_num_14_24'] / merged_14_24['pop_sum_bw_14_24']\n",
    "    return merged_14_24#.sort_values('14_24_final_ratio', ascending = False)"
   ]
  },
  {
   "cell_type": "code",
   "execution_count": 52,
   "id": "8561bf98",
   "metadata": {
    "scrolled": true
   },
   "outputs": [
    {
     "name": "stderr",
     "output_type": "stream",
     "text": [
      "/opt/tljh/user/lib/python3.7/site-packages/ipykernel_launcher.py:5: SettingWithCopyWarning: \n",
      "A value is trying to be set on a copy of a slice from a DataFrame.\n",
      "Try using .loc[row_indexer,col_indexer] = value instead\n",
      "\n",
      "See the caveats in the documentation: https://pandas.pydata.org/pandas-docs/stable/user_guide/indexing.html#returning-a-view-versus-a-copy\n",
      "  \"\"\"\n",
      "/opt/tljh/user/lib/python3.7/site-packages/ipykernel_launcher.py:5: SettingWithCopyWarning: \n",
      "A value is trying to be set on a copy of a slice from a DataFrame.\n",
      "Try using .loc[row_indexer,col_indexer] = value instead\n",
      "\n",
      "See the caveats in the documentation: https://pandas.pydata.org/pandas-docs/stable/user_guide/indexing.html#returning-a-view-versus-a-copy\n",
      "  \"\"\"\n",
      "/opt/tljh/user/lib/python3.7/site-packages/ipykernel_launcher.py:6: SettingWithCopyWarning: \n",
      "A value is trying to be set on a copy of a slice from a DataFrame.\n",
      "Try using .loc[row_indexer,col_indexer] = value instead\n",
      "\n",
      "See the caveats in the documentation: https://pandas.pydata.org/pandas-docs/stable/user_guide/indexing.html#returning-a-view-versus-a-copy\n",
      "  \n",
      "/opt/tljh/user/lib/python3.7/site-packages/ipykernel_launcher.py:7: SettingWithCopyWarning: \n",
      "A value is trying to be set on a copy of a slice from a DataFrame.\n",
      "Try using .loc[row_indexer,col_indexer] = value instead\n",
      "\n",
      "See the caveats in the documentation: https://pandas.pydata.org/pandas-docs/stable/user_guide/indexing.html#returning-a-view-versus-a-copy\n",
      "  import sys\n"
     ]
    }
   ],
   "source": [
    "merged_14_24(make_pop_year(2020), make_oh_pop_county_14_24_pop_year(2020)).to_csv('2020.csv', index = False, header = True)"
   ]
  },
  {
   "cell_type": "code",
   "execution_count": 11,
   "id": "00e375c5",
   "metadata": {
    "scrolled": true
   },
   "outputs": [
    {
     "name": "stderr",
     "output_type": "stream",
     "text": [
      "/opt/tljh/user/lib/python3.7/site-packages/ipykernel_launcher.py:5: SettingWithCopyWarning: \n",
      "A value is trying to be set on a copy of a slice from a DataFrame.\n",
      "Try using .loc[row_indexer,col_indexer] = value instead\n",
      "\n",
      "See the caveats in the documentation: https://pandas.pydata.org/pandas-docs/stable/user_guide/indexing.html#returning-a-view-versus-a-copy\n",
      "  \"\"\"\n",
      "/opt/tljh/user/lib/python3.7/site-packages/ipykernel_launcher.py:5: SettingWithCopyWarning: \n",
      "A value is trying to be set on a copy of a slice from a DataFrame.\n",
      "Try using .loc[row_indexer,col_indexer] = value instead\n",
      "\n",
      "See the caveats in the documentation: https://pandas.pydata.org/pandas-docs/stable/user_guide/indexing.html#returning-a-view-versus-a-copy\n",
      "  \"\"\"\n",
      "/opt/tljh/user/lib/python3.7/site-packages/ipykernel_launcher.py:6: SettingWithCopyWarning: \n",
      "A value is trying to be set on a copy of a slice from a DataFrame.\n",
      "Try using .loc[row_indexer,col_indexer] = value instead\n",
      "\n",
      "See the caveats in the documentation: https://pandas.pydata.org/pandas-docs/stable/user_guide/indexing.html#returning-a-view-versus-a-copy\n",
      "  \n",
      "/opt/tljh/user/lib/python3.7/site-packages/ipykernel_launcher.py:7: SettingWithCopyWarning: \n",
      "A value is trying to be set on a copy of a slice from a DataFrame.\n",
      "Try using .loc[row_indexer,col_indexer] = value instead\n",
      "\n",
      "See the caveats in the documentation: https://pandas.pydata.org/pandas-docs/stable/user_guide/indexing.html#returning-a-view-versus-a-copy\n",
      "  import sys\n"
     ]
    }
   ],
   "source": [
    "merged_14_24(make_pop_year(2019), make_oh_pop_county_14_24_pop_year(2019)).to_csv('2019.csv', index = False, header = True)"
   ]
  },
  {
   "cell_type": "code",
   "execution_count": 12,
   "id": "be9e97cf",
   "metadata": {},
   "outputs": [
    {
     "name": "stderr",
     "output_type": "stream",
     "text": [
      "/opt/tljh/user/lib/python3.7/site-packages/ipykernel_launcher.py:5: SettingWithCopyWarning: \n",
      "A value is trying to be set on a copy of a slice from a DataFrame.\n",
      "Try using .loc[row_indexer,col_indexer] = value instead\n",
      "\n",
      "See the caveats in the documentation: https://pandas.pydata.org/pandas-docs/stable/user_guide/indexing.html#returning-a-view-versus-a-copy\n",
      "  \"\"\"\n",
      "/opt/tljh/user/lib/python3.7/site-packages/ipykernel_launcher.py:5: SettingWithCopyWarning: \n",
      "A value is trying to be set on a copy of a slice from a DataFrame.\n",
      "Try using .loc[row_indexer,col_indexer] = value instead\n",
      "\n",
      "See the caveats in the documentation: https://pandas.pydata.org/pandas-docs/stable/user_guide/indexing.html#returning-a-view-versus-a-copy\n",
      "  \"\"\"\n",
      "/opt/tljh/user/lib/python3.7/site-packages/ipykernel_launcher.py:6: SettingWithCopyWarning: \n",
      "A value is trying to be set on a copy of a slice from a DataFrame.\n",
      "Try using .loc[row_indexer,col_indexer] = value instead\n",
      "\n",
      "See the caveats in the documentation: https://pandas.pydata.org/pandas-docs/stable/user_guide/indexing.html#returning-a-view-versus-a-copy\n",
      "  \n",
      "/opt/tljh/user/lib/python3.7/site-packages/ipykernel_launcher.py:7: SettingWithCopyWarning: \n",
      "A value is trying to be set on a copy of a slice from a DataFrame.\n",
      "Try using .loc[row_indexer,col_indexer] = value instead\n",
      "\n",
      "See the caveats in the documentation: https://pandas.pydata.org/pandas-docs/stable/user_guide/indexing.html#returning-a-view-versus-a-copy\n",
      "  import sys\n"
     ]
    }
   ],
   "source": [
    "merged_14_24(make_pop_year(2018), make_oh_pop_county_14_24_pop_year(2018)).to_csv('2018.csv', index = False, header = True)"
   ]
  },
  {
   "cell_type": "code",
   "execution_count": 13,
   "id": "48946daa",
   "metadata": {},
   "outputs": [
    {
     "name": "stderr",
     "output_type": "stream",
     "text": [
      "/opt/tljh/user/lib/python3.7/site-packages/ipykernel_launcher.py:5: SettingWithCopyWarning: \n",
      "A value is trying to be set on a copy of a slice from a DataFrame.\n",
      "Try using .loc[row_indexer,col_indexer] = value instead\n",
      "\n",
      "See the caveats in the documentation: https://pandas.pydata.org/pandas-docs/stable/user_guide/indexing.html#returning-a-view-versus-a-copy\n",
      "  \"\"\"\n",
      "/opt/tljh/user/lib/python3.7/site-packages/ipykernel_launcher.py:5: SettingWithCopyWarning: \n",
      "A value is trying to be set on a copy of a slice from a DataFrame.\n",
      "Try using .loc[row_indexer,col_indexer] = value instead\n",
      "\n",
      "See the caveats in the documentation: https://pandas.pydata.org/pandas-docs/stable/user_guide/indexing.html#returning-a-view-versus-a-copy\n",
      "  \"\"\"\n",
      "/opt/tljh/user/lib/python3.7/site-packages/ipykernel_launcher.py:6: SettingWithCopyWarning: \n",
      "A value is trying to be set on a copy of a slice from a DataFrame.\n",
      "Try using .loc[row_indexer,col_indexer] = value instead\n",
      "\n",
      "See the caveats in the documentation: https://pandas.pydata.org/pandas-docs/stable/user_guide/indexing.html#returning-a-view-versus-a-copy\n",
      "  \n",
      "/opt/tljh/user/lib/python3.7/site-packages/ipykernel_launcher.py:7: SettingWithCopyWarning: \n",
      "A value is trying to be set on a copy of a slice from a DataFrame.\n",
      "Try using .loc[row_indexer,col_indexer] = value instead\n",
      "\n",
      "See the caveats in the documentation: https://pandas.pydata.org/pandas-docs/stable/user_guide/indexing.html#returning-a-view-versus-a-copy\n",
      "  import sys\n"
     ]
    }
   ],
   "source": [
    "merged_14_24(make_pop_year(2017), make_oh_pop_county_14_24_pop_year(2017)).to_csv('2017.csv', index = False, header = True)"
   ]
  },
  {
   "cell_type": "code",
   "execution_count": 14,
   "id": "85c44219",
   "metadata": {},
   "outputs": [
    {
     "name": "stderr",
     "output_type": "stream",
     "text": [
      "/opt/tljh/user/lib/python3.7/site-packages/ipykernel_launcher.py:5: SettingWithCopyWarning: \n",
      "A value is trying to be set on a copy of a slice from a DataFrame.\n",
      "Try using .loc[row_indexer,col_indexer] = value instead\n",
      "\n",
      "See the caveats in the documentation: https://pandas.pydata.org/pandas-docs/stable/user_guide/indexing.html#returning-a-view-versus-a-copy\n",
      "  \"\"\"\n",
      "/opt/tljh/user/lib/python3.7/site-packages/ipykernel_launcher.py:5: SettingWithCopyWarning: \n",
      "A value is trying to be set on a copy of a slice from a DataFrame.\n",
      "Try using .loc[row_indexer,col_indexer] = value instead\n",
      "\n",
      "See the caveats in the documentation: https://pandas.pydata.org/pandas-docs/stable/user_guide/indexing.html#returning-a-view-versus-a-copy\n",
      "  \"\"\"\n",
      "/opt/tljh/user/lib/python3.7/site-packages/ipykernel_launcher.py:6: SettingWithCopyWarning: \n",
      "A value is trying to be set on a copy of a slice from a DataFrame.\n",
      "Try using .loc[row_indexer,col_indexer] = value instead\n",
      "\n",
      "See the caveats in the documentation: https://pandas.pydata.org/pandas-docs/stable/user_guide/indexing.html#returning-a-view-versus-a-copy\n",
      "  \n",
      "/opt/tljh/user/lib/python3.7/site-packages/ipykernel_launcher.py:7: SettingWithCopyWarning: \n",
      "A value is trying to be set on a copy of a slice from a DataFrame.\n",
      "Try using .loc[row_indexer,col_indexer] = value instead\n",
      "\n",
      "See the caveats in the documentation: https://pandas.pydata.org/pandas-docs/stable/user_guide/indexing.html#returning-a-view-versus-a-copy\n",
      "  import sys\n"
     ]
    }
   ],
   "source": [
    "merged_14_24(make_pop_year(2016), make_oh_pop_county_14_24_pop_year(2016)).to_csv('2016.csv', index = False, header = True)"
   ]
  },
  {
   "cell_type": "code",
   "execution_count": 50,
   "id": "63189a01",
   "metadata": {
    "scrolled": true
   },
   "outputs": [],
   "source": [
    "# def make_result_series_per_year(year):\n",
    "#     oh_homeless_pop = per_year_homeless_pop(year)\n",
    "#     pop_year = make_pop_year(year)\n",
    "#     #pop_by_county = pop_by_county_19_prev(year)\n",
    "#     oh_pop_county_14_24_pop_year = make_oh_pop_county_14_24_pop_year(year)\n",
    "#     result_series = merged_14_24(pop_year, oh_pop_county_14_24_pop_year)['14_24_final_ratio']\n",
    "#     return result_series"
   ]
  },
  {
   "cell_type": "code",
   "execution_count": 9,
   "id": "52f2d870",
   "metadata": {
    "scrolled": true
   },
   "outputs": [],
   "source": [
    "# per_year_homeless_pop(2018)"
   ]
  },
  {
   "cell_type": "code",
   "execution_count": 43,
   "id": "52bc4331",
   "metadata": {
    "scrolled": true
   },
   "outputs": [],
   "source": [
    "# pop_18 = per_year_homeless_pop(2018)[['CoC Name', 'Overall Homeless - Under 18, 2018', 'Overall Homeless - Age 18 to 24, 2018']]\n",
    "# pop_18['Overall Homeless - under_24_sum'] = pop_18['Overall Homeless - Under 18, 2018'] + pop_18['Overall Homeless - Age 18 to 24, 2018']\n",
    "# pop_18"
   ]
  },
  {
   "cell_type": "code",
   "execution_count": 41,
   "id": "c194113f",
   "metadata": {
    "scrolled": true
   },
   "outputs": [],
   "source": [
    "# per_year_homeless_pop(2019)"
   ]
  },
  {
   "cell_type": "code",
   "execution_count": 44,
   "id": "b5cc6caf",
   "metadata": {},
   "outputs": [],
   "source": [
    "# pop_19 = per_year_homeless_pop(2019)[['CoC Name', 'Overall Homeless - Under 18, 2019', 'Overall Homeless - Age 18 to 24, 2019']]\n",
    "# pop_19['Overall Homeless - under_24_sum'] = pop_19['Overall Homeless - Under 18, 2019'] + pop_19['Overall Homeless - Age 18 to 24, 2019']\n",
    "# pop_19"
   ]
  },
  {
   "cell_type": "code",
   "execution_count": 45,
   "id": "306a5551",
   "metadata": {
    "scrolled": true
   },
   "outputs": [],
   "source": [
    "# pop_20 = per_year_homeless_pop(2020)[['CoC Name', 'Overall Homeless - Under 18, 2020', 'Overall Homeless - Age 18 to 24, 2020']]\n",
    "# pop_20['Overall Homeless - under_24_sum'] = pop_20['Overall Homeless - Under 18, 2020'] + pop_20['Overall Homeless - Age 18 to 24, 2020']\n",
    "# pop_20"
   ]
  },
  {
   "cell_type": "code",
   "execution_count": 47,
   "id": "02291da7",
   "metadata": {
    "scrolled": true
   },
   "outputs": [],
   "source": [
    "# pop_by_county_19_prev = pd.read_csv('ohio_counties.csv')[['County', '2019']]\n",
    "# pop_by_county_19_prev['County'] = pop_by_county_19_prev['County'].str[1:-6]\n",
    "# pop_by_county_19_prev"
   ]
  },
  {
   "cell_type": "code",
   "execution_count": 48,
   "id": "3d24f96e",
   "metadata": {
    "scrolled": true
   },
   "outputs": [],
   "source": [
    "# pop_by_county_18_prev = pd.read_csv('ohio_counties.csv')[['County', '2018']]\n",
    "# pop_by_county_18_prev['County'] = pop_by_county_18_prev['County'].str[1:-6]\n",
    "# pop_by_county_18_prev"
   ]
  },
  {
   "cell_type": "code",
   "execution_count": 50,
   "id": "e8a00a50",
   "metadata": {
    "scrolled": true
   },
   "outputs": [],
   "source": [
    "# oh_pop_county_per_age = pd.read_csv('cc-est2019-agesex-39.csv')\n",
    "# oh_pop_county_per_age_pop_2020 = oh_pop_county_per_age.loc[oh_pop_county_per_age['YEAR'] == 11]\n",
    "# oh_pop_county_under_24_pop_2020 = oh_pop_county_per_age_pop_2020[['CTYNAME', 'UNDER5_TOT', 'AGE513_TOT', 'AGE1417_TOT', 'AGE1824_TOT']]\n",
    "# oh_pop_county_under_24_pop_2020['pop_sum_under_24'] = oh_pop_county_under_24_pop_2020['UNDER5_TOT'] + oh_pop_county_under_24_pop_2020['AGE513_TOT'] + oh_pop_county_under_24_pop_2020['AGE1417_TOT'] + oh_pop_county_under_24_pop_2020['AGE1824_TOT']\n",
    "# oh_pop_county_under_24_pop_2020['pop_sum_bw_14_24'] = oh_pop_county_under_24_pop_2020['AGE1417_TOT'] + oh_pop_county_under_24_pop_2020['AGE1824_TOT']\n",
    "# oh_pop_county_under_24_pop_2020['ratio_14_24_over_under_24'] = oh_pop_county_under_24_pop_2020['pop_sum_bw_14_24'] / oh_pop_county_under_24_pop_2020['pop_sum_under_24']\n",
    "# oh_pop_county_14_24_pop_2020 = oh_pop_county_under_24_pop_2020\n",
    "# oh_pop_county_14_24_pop_2020"
   ]
  },
  {
   "cell_type": "code",
   "execution_count": 51,
   "id": "10d272a7",
   "metadata": {
    "scrolled": true
   },
   "outputs": [],
   "source": [
    "# oh_pop_county_per_age = pd.read_csv('cc-est2019-agesex-39.csv')\n",
    "# oh_pop_county_per_age_pop_2019 = oh_pop_county_per_age.loc[oh_pop_county_per_age['YEAR'] == 10]\n",
    "# oh_pop_county_under_24_pop_2019 = oh_pop_county_per_age_pop_2019[['CTYNAME', 'UNDER5_TOT', 'AGE513_TOT', 'AGE1417_TOT', 'AGE1824_TOT']]\n",
    "# oh_pop_county_under_24_pop_2019['pop_sum_under_24'] = oh_pop_county_under_24_pop_2019['UNDER5_TOT'] + oh_pop_county_under_24_pop_2019['AGE513_TOT'] + oh_pop_county_under_24_pop_2019['AGE1417_TOT'] + oh_pop_county_under_24_pop_2019['AGE1824_TOT']\n",
    "# oh_pop_county_under_24_pop_2019['pop_sum_bw_14_24'] = oh_pop_county_under_24_pop_2019['AGE1417_TOT'] + oh_pop_county_under_24_pop_2019['AGE1824_TOT']\n",
    "# oh_pop_county_under_24_pop_2019['ratio_14_24_over_under_24'] = oh_pop_county_under_24_pop_2019['pop_sum_bw_14_24'] / oh_pop_county_under_24_pop_2019['pop_sum_under_24']\n",
    "# oh_pop_county_14_24_pop_2019 = oh_pop_county_under_24_pop_2019\n",
    "# oh_pop_county_14_24_pop_2019"
   ]
  },
  {
   "cell_type": "code",
   "execution_count": 52,
   "id": "e9bdeadc",
   "metadata": {
    "scrolled": true
   },
   "outputs": [],
   "source": [
    "# oh_pop_county_per_age = pd.read_csv('cc-est2019-agesex-39.csv')\n",
    "# oh_pop_county_per_age_pop_2018 = oh_pop_county_per_age.loc[oh_pop_county_per_age['YEAR'] == 9]\n",
    "# oh_pop_county_under_24_pop_2018 = oh_pop_county_per_age_pop_2018[['CTYNAME', 'UNDER5_TOT', 'AGE513_TOT', 'AGE1417_TOT', 'AGE1824_TOT']]\n",
    "# oh_pop_county_under_24_pop_2018['pop_sum_under_24'] = oh_pop_county_under_24_pop_2018['UNDER5_TOT'] + oh_pop_county_under_24_pop_2018['AGE513_TOT'] + oh_pop_county_under_24_pop_2018['AGE1417_TOT'] + oh_pop_county_under_24_pop_2018['AGE1824_TOT']\n",
    "# oh_pop_county_under_24_pop_2018['pop_sum_bw_14_24'] = oh_pop_county_under_24_pop_2018['AGE1417_TOT'] + oh_pop_county_under_24_pop_2018['AGE1824_TOT']\n",
    "# oh_pop_county_under_24_pop_2018['ratio_14_24_over_under_24'] = oh_pop_county_under_24_pop_2018['pop_sum_bw_14_24'] / oh_pop_county_under_24_pop_2018['pop_sum_under_24']\n",
    "# oh_pop_county_14_24_pop_2018 = oh_pop_county_under_24_pop_2018\n",
    "# oh_pop_county_14_24_pop_2018"
   ]
  },
  {
   "cell_type": "code",
   "execution_count": 53,
   "id": "30913cb9",
   "metadata": {
    "scrolled": true
   },
   "outputs": [],
   "source": [
    "# merged_14_24 = pd.merge(left = pop_20, right = oh_pop_county_14_24_pop_2020, left_on = 'CoC Name', right_on = 'CTYNAME')\n",
    "# merged_14_24['abs_num_14_24'] = merged_14_24['ratio_14_24_over_under_24'] * merged_14_24['Overall Homeless - under_24_sum']\n",
    "# merged_14_24['14_24_final_ratio'] = merged_14_24['abs_num_14_24'] / merged_14_24['pop_sum_bw_14_24']\n",
    "# merged_14_24.sort_values('14_24_final_ratio', ascending = False)"
   ]
  },
  {
   "cell_type": "code",
   "execution_count": 54,
   "id": "5fdfbcfa",
   "metadata": {
    "scrolled": true
   },
   "outputs": [],
   "source": [
    "# merged_14_24_2019 = pd.merge(left = pop_19, right = oh_pop_county_14_24_pop_2019, left_on = 'CoC Name', right_on = 'CTYNAME')\n",
    "# merged_14_24_2019['abs_num_14_24'] = merged_14_24_2019['ratio_14_24_over_under_24'] * merged_14_24_2019['Overall Homeless - under_24_sum']\n",
    "# merged_14_24_2019['14_24_final_ratio'] = merged_14_24_2019['abs_num_14_24'] / merged_14_24_2019['pop_sum_bw_14_24']\n",
    "# merged_14_24_2019.sort_values('14_24_final_ratio', ascending = False)"
   ]
  },
  {
   "cell_type": "code",
   "execution_count": 55,
   "id": "68928a77",
   "metadata": {
    "scrolled": true
   },
   "outputs": [],
   "source": [
    "# merged_14_24_2018 = pd.merge(left = pop_18, right = oh_pop_county_14_24_pop_2018, left_on = 'CoC Name', right_on = 'CTYNAME')\n",
    "# merged_14_24_2018['abs_num_14_24'] = merged_14_24_2018['ratio_14_24_over_under_24'] * merged_14_24_2018['Overall Homeless - under_24_sum']\n",
    "# merged_14_24_2018['14_24_final_ratio'] = merged_14_24_2018['abs_num_14_24'] / merged_14_24_2018['pop_sum_bw_14_24']\n",
    "# merged_14_24_2018.sort_values('14_24_final_ratio', ascending = False)"
   ]
  },
  {
   "cell_type": "code",
   "execution_count": null,
   "id": "8dcc2665",
   "metadata": {},
   "outputs": [],
   "source": []
  }
 ],
 "metadata": {
  "kernelspec": {
   "display_name": "Python 3",
   "language": "python",
   "name": "python3"
  },
  "language_info": {
   "codemirror_mode": {
    "name": "ipython",
    "version": 3
   },
   "file_extension": ".py",
   "mimetype": "text/x-python",
   "name": "python",
   "nbconvert_exporter": "python",
   "pygments_lexer": "ipython3",
   "version": "3.7.3"
  }
 },
 "nbformat": 4,
 "nbformat_minor": 5
}
